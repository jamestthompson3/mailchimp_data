{
 "cells": [
  {
   "cell_type": "code",
   "execution_count": 1,
   "metadata": {
    "collapsed": true
   },
   "outputs": [],
   "source": [
    "import pandas as pd\n",
    "import datetime\n",
    "from bokeh.plotting import output_file, show, figure\n",
    "from bokeh.models import HoverTool, ColumnDataSource\n",
    "\n",
    "\n",
    "# In[39]:\n",
    "\n",
    "df=pd.read_csv(\"mailchimp_campaigns.csv\", parse_dates=[\"Send_Date\"])"
   ]
  },
  {
   "cell_type": "code",
   "execution_count": 3,
   "metadata": {
    "collapsed": false
   },
   "outputs": [
    {
     "data": {
      "text/plain": [
       "['Title',\n",
       " 'Subject',\n",
       " 'List',\n",
       " 'Send_Date',\n",
       " 'Send_Weekday',\n",
       " 'Total_Recipients',\n",
       " 'Successful_Deliveries',\n",
       " 'Soft_Bounces',\n",
       " 'Hard_Bounces',\n",
       " 'Total_Bounces',\n",
       " 'Times_Forwarded',\n",
       " 'Forwarded_Opens',\n",
       " 'Unique_Opens',\n",
       " 'Open_Rate',\n",
       " 'Total_Opens',\n",
       " 'Unique_Clicks',\n",
       " 'Click_Rate',\n",
       " 'Total_Clicks',\n",
       " 'Unsubscribes',\n",
       " 'Abuse_Complaints',\n",
       " 'Times_Liked_on_Facebook',\n",
       " 'Folder_Id',\n",
       " 'Unique_Id',\n",
       " 'Analytics_ROI',\n",
       " 'Campaign_Cost',\n",
       " 'Revenue_Created',\n",
       " 'Visits',\n",
       " 'New_Visits',\n",
       " 'Pages/Visit',\n",
       " 'Bounce_Rate',\n",
       " 'Time_on_Site',\n",
       " 'Goal_Conversion_Rate',\n",
       " 'Per_Visit_Goal_Value',\n",
       " 'Transactions',\n",
       " 'Ecommerce_Conversion_Rate',\n",
       " 'Per_Visit_Value',\n",
       " 'Average_Value']"
      ]
     },
     "execution_count": 3,
     "metadata": {},
     "output_type": "execute_result"
    }
   ],
   "source": [
    "list(df)"
   ]
  },
  {
   "cell_type": "code",
   "execution_count": 6,
   "metadata": {
    "collapsed": false
   },
   "outputs": [
    {
     "data": {
      "text/plain": [
       "26.021333333333338"
      ]
     },
     "execution_count": 6,
     "metadata": {},
     "output_type": "execute_result"
    }
   ],
   "source": [
    "df[\"Open_Rate\"].mean()"
   ]
  }
 ],
 "metadata": {
  "kernelspec": {
   "display_name": "Python 2",
   "language": "python",
   "name": "python2"
  },
  "language_info": {
   "codemirror_mode": {
    "name": "ipython",
    "version": 2
   },
   "file_extension": ".py",
   "mimetype": "text/x-python",
   "name": "python",
   "nbconvert_exporter": "python",
   "pygments_lexer": "ipython2",
   "version": "2.7.11"
  }
 },
 "nbformat": 4,
 "nbformat_minor": 2
}
